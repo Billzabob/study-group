{
 "cells": [
  {
   "cell_type": "code",
   "execution_count": null,
   "metadata": {},
   "outputs": [],
   "source": [
    "import $ivy.`org.typelevel::cats-core:2.1.0`\n",
    "\n",
    "// These are all the imports you need for everything here\n",
    "import cats.implicits._\n",
    "import cats.Monad"
   ]
  },
  {
   "cell_type": "markdown",
   "metadata": {},
   "source": [
    "# Defining Custom Monads\n",
    "We can define a `Monad` for a custom type by providing implementations of three methods:\n",
    "- `flatMap`\n",
    "- `pure`\n",
    "- `tailRecM`\n",
    "\n",
    "Here's an example of the implementation for `Option`:"
   ]
  },
  {
   "cell_type": "code",
   "execution_count": null,
   "metadata": {},
   "outputs": [],
   "source": [
    "implicit val optionMonad: Monad[Option] = new Monad[Option] {\n",
    "  def flatMap[A, B](opt: Option[A])(fn: A => Option[B]): Option[B] =\n",
    "    opt.flatMap(fn)\n",
    "  \n",
    "  def pure[A](opt: A): Option[A] =\n",
    "    Some(opt)\n",
    "\n",
    "  @scala.annotation.tailrec\n",
    "  def tailRecM[A, B](a: A)(fn: A => Option[Either[A, B]]): Option[B] =\n",
    "    fn(a) match {\n",
    "      case None => None\n",
    "      case Some(Left(a1)) => tailRecM(a1)(fn)\n",
    "      case Some(Right(b)) => Some(b)\n",
    "    }\n",
    "}"
   ]
  },
  {
   "cell_type": "markdown",
   "metadata": {},
   "source": [
    "The `tailRecM` method is an optimization used in Cats. If we can make `tailRecM` tail-recursive, Cats can guarentee we won't get `StackOverflowErrors` in recursive situations like folding over a large list. All of the built-in monads in Cats have tail-recursive implementations of `tailRecM`. Writing a tail-recursive `tailRecM` for you custom monad is almost always possible, though sometimes it can be a challenge.\n",
    "\n",
    "## Exercise\n",
    "\n",
    "Let's implement `Monad` for `Tree`:"
   ]
  },
  {
   "cell_type": "code",
   "execution_count": null,
   "metadata": {},
   "outputs": [],
   "source": [
    "sealed trait Tree[+A]\n",
    "\n",
    "final case class Branch[A](left: Tree[A], right: Tree[A]) extends Tree[A]\n",
    "\n",
    "final case class Leaf[A](value: A) extends Tree[A]\n",
    "\n",
    "def branch[A](left: Tree[A], right: Tree[A]): Tree[A] =\n",
    "  Branch(left, right)\n",
    "\n",
    "def leaf[A](value: A): Tree[A] =\n",
    "  Leaf(value)"
   ]
  },
  {
   "cell_type": "markdown",
   "metadata": {},
   "source": [
    "We'll need to verify the code works on instances of `Branch` and `Leaf`, and that the `Monad` provides `Functor`-like behavior for free. Implementing `tailRecM` here is very difficult, so don't feel bad if you just want to examine the solution."
   ]
  },
  {
   "cell_type": "code",
   "execution_count": null,
   "metadata": {},
   "outputs": [],
   "source": [
    "implicit val treeMonad: Monad[Tree] = new Monad[Tree] {\n",
    "  def pure[A](value: A): Tree[A] =\n",
    "    ???\n",
    "\n",
    "  def flatMap[A, B](tree: Tree[A])(func: A => Tree[B]): Tree[B] =\n",
    "    ???\n",
    "\n",
    "  // @scala.annotation.tailrec\n",
    "  def tailRecM[A, B](arg: A)(func: A => Tree[Either[A, B]]): Tree[B] =\n",
    "    ???\n",
    "}\n",
    "\n",
    "// Lets see if we get map for free\n",
    "val mapDemo = branch(leaf(100), leaf(200)).map(_ + 2)\n",
    "\n",
    "// Lets see if we can use it in a for comprehension\n",
    "val forDemo = for {\n",
    "  a <- branch(leaf(100), leaf(200))\n",
    "  b <- branch(leaf(a - 10), leaf(a + 10))\n",
    "  c <- branch(leaf(b - 1), leaf(b + 1))\n",
    "} yield c"
   ]
  },
  {
   "cell_type": "code",
   "execution_count": null,
   "metadata": {
    "jupyter": {
     "source_hidden": true
    }
   },
   "outputs": [],
   "source": [
    "implicit val treeMonad: Monad[Tree] = new Monad[Tree] {\n",
    "  def pure[A](value: A): Tree[A] =\n",
    "    Leaf(value)\n",
    "\n",
    "  def flatMap[A, B](tree: Tree[A])(func: A => Tree[B]): Tree[B] =\n",
    "    tree match {\n",
    "      case Branch(l, r) =>\n",
    "        Branch(flatMap(l)(func), flatMap(r)(func))\n",
    "      case Leaf(value) =>\n",
    "        func(value)\n",
    "    }\n",
    "\n",
    "  def tailRecM[A, B](arg: A)(func: A => Tree[Either[A, B]]): Tree[B] = {\n",
    "    \n",
    "    @scala.annotation.tailrec\n",
    "    def loop(open: List[Tree[Either[A, B]]], closed: List[Option[Tree[B]]]): List[Tree[B]] =\n",
    "      open match {\n",
    "        case Branch(l, r) :: next =>\n",
    "          loop(l :: r :: next, None :: closed)\n",
    "        \n",
    "        case Leaf(Left(value)) :: next =>\n",
    "          loop(func(value) :: next, closed)\n",
    "        \n",
    "        case Leaf(Right(value)) :: next =>\n",
    "          loop(next, Some(pure(value)) :: closed)\n",
    "        \n",
    "        case Nil =>\n",
    "          closed.foldLeft(Nil: List[Tree[B]]) { (acc, maybeTree) =>\n",
    "            maybeTree.map(_ :: acc).getOrElse {\n",
    "              val left :: right :: tail = acc\n",
    "              branch(left, right) :: tail\n",
    "            }\n",
    "          }\n",
    "      }\n",
    "    \n",
    "    loop(List(func(arg)), Nil).head\n",
    "  }\n",
    "}\n",
    "\n",
    "// Lets see if we get map for free\n",
    "val mapDemo = branch(leaf(100), leaf(200)).map(_ + 2)\n",
    "\n",
    "// Lets see if we can use it in a for comprehension\n",
    "val forDemo = for {\n",
    "  a <- branch(leaf(100), leaf(200))\n",
    "  b <- branch(leaf(a - 10), leaf(a + 10))\n",
    "  c <- branch(leaf(b - 1), leaf(b + 1))\n",
    "} yield c"
   ]
  },
  {
   "cell_type": "markdown",
   "metadata": {},
   "source": [
    "What are the semantics of `flatMap` for `Tree`? Phrased differently, what *complication* does `Tree` implement?\n",
    "\n",
    "Every node in the tree has the potential to be replaced with a whole subtree, producing a kind of \"growing\" or \"feathering\" behavior."
   ]
  },
  {
   "cell_type": "markdown",
   "metadata": {},
   "source": [
    "## Other Monads in Cats\n",
    "`IO`\n",
    "\n",
    "An *effect* monad. Better replacement for `Future`. Makes all code referentially transparent. It's *complication* is side-effecting.\n",
    "\n",
    "`NonEmptyList`\n",
    "\n",
    "Same as list, but represents a non-empty set of intermediate results.\n",
    "\n",
    "`Chain`\n",
    "\n",
    "Alternative to `List` and `Vector` with different performance characteristics.\n",
    "\n",
    "`Ior`\n",
    "\n",
    "Inclusive-or. Similar to Either, but also has the ability to be *both*. Can be thought of as `Result`, `Error`, or `ResultAndWarning`. \n",
    "\n",
    "`Kleisli`\n",
    "\n",
    "Same thing as `ReaderT` which is basically an alias for `A => F[B]`. Very handy and not nearly as intimidating as its name.\n",
    "\n",
    "`Free`\n",
    "\n",
    "Turn any sealed hierarchy into a monad. Get the result by converting to a real monad at a later time with an *interpreter*.\n",
    "\n",
    "`And more...`\n",
    "\n",
    "Many more from popular libraries such as `Stream` from fs2, `ConnectionIO` from doobie, and `Parser` from atto."
   ]
  }
 ],
 "metadata": {
  "kernelspec": {
   "display_name": "Scala (2.13)",
   "language": "scala",
   "name": "scala213"
  },
  "language_info": {
   "codemirror_mode": "text/x-scala",
   "file_extension": ".scala",
   "mimetype": "text/x-scala",
   "name": "scala",
   "nbconvert_exporter": "script",
   "version": "2.13.1"
  }
 },
 "nbformat": 4,
 "nbformat_minor": 2
}
