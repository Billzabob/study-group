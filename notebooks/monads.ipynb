{
 "cells": [
  {
   "cell_type": "code",
   "execution_count": null,
   "metadata": {},
   "outputs": [],
   "source": [
    "import $ivy.`org.typelevel::cats-core:2.1.0`\n",
    "\n",
    "// These are all the imports you need for everything here\n",
    "import cats.implicits._\n",
    "import cats.{Eval, Id, Monad}\n",
    "import cats.data.{Reader, State, Writer}\n",
    "\n",
    "import scala.concurrent.Future\n",
    "import scala.concurrent.ExecutionContext.Implicits.global"
   ]
  },
  {
   "cell_type": "markdown",
   "metadata": {},
   "source": [
    "# Monads\n",
    "\n",
    "## What is a Monad?\n",
    "A simple definition: Something that can be flatMapped\n",
    "\n",
    "Another definition: A mechanism for sequencing computations\n",
    "\n",
    "Functors are also for sequencing computations, but are limited in that they only allow one *complication* to occur at the beginning of the sequence."
   ]
  },
  {
   "cell_type": "code",
   "execution_count": null,
   "metadata": {},
   "outputs": [],
   "source": [
    "def parseInt(str: String): Option[Int] =\n",
    "  scala.util.Try(str.toInt).toOption\n",
    "\n",
    "val some = parseInt(\"10\").map(_ * 5).map(_ + 3)\n",
    "val none = parseInt(\"Not an int\").map(_ * 5).map(_ + 3)"
   ]
  },
  {
   "cell_type": "markdown",
   "metadata": {},
   "source": [
    "Monads allow to specify what happens next, taking into account an intermediate *complication*."
   ]
  },
  {
   "cell_type": "code",
   "execution_count": null,
   "metadata": {},
   "outputs": [],
   "source": [
    "def divide(a: Int, b: Int): Option[Int] =\n",
    "  if (b == 0) None else Some(a / b)\n",
    "\n",
    "def stringDivideBy(str1: String, str2: String): Option[Int] =\n",
    "  parseInt(str1).flatMap { num1 =>\n",
    "    parseInt(str2).flatMap { num2 =>\n",
    "      divide(num1, num2)\n",
    "    }\n",
    "  }\n",
    "\n",
    "val some  = stringDivideBy(\"10\", \"5\")\n",
    "val none1 = stringDivideBy(\"Not an int\", \"5\")\n",
    "val none2 = stringDivideBy(\"10\", \"Not an int\")\n",
    "val none3 = stringDivideBy(\"10\", \"0\")"
   ]
  },
  {
   "cell_type": "markdown",
   "metadata": {},
   "source": [
    "The *complication* in this example is `Option`s fail-fast error handling behavior.\n",
    "\n",
    "Every `Monad` is also a `Functor` (we'll do the proof in a bit). If we have `flatMap` and `map` we can use for comprehensions to clarify the sequencing behavior:"
   ]
  },
  {
   "cell_type": "code",
   "execution_count": null,
   "metadata": {},
   "outputs": [],
   "source": [
    "def stringDivideBy(str1: String, str2: String): Option[Int] =\n",
    "  for {\n",
    "    num1 <- parseInt(str1)\n",
    "    num2 <- parseInt(str2)\n",
    "    ans  <- divide(num1, num2)\n",
    "  } yield ans"
   ]
  },
  {
   "cell_type": "markdown",
   "metadata": {},
   "source": [
    "## Examples of Monads\n",
    "\n",
    "### `List`\n",
    "`List`'s `flatMap` can be thought of as iterating over the elements of the list. This is reinforced by the syntax of for comprehensions, which look very much like imperative for-loops:"
   ]
  },
  {
   "cell_type": "code",
   "execution_count": null,
   "metadata": {},
   "outputs": [],
   "source": [
    "for {\n",
    "  x <- (1 to 3).toList\n",
    "  y <- (4 to 5).toList\n",
    "} yield (x, y)"
   ]
  },
  {
   "cell_type": "markdown",
   "metadata": {},
   "source": [
    "However, there is another mental model we can apply that highlights the monadic behaviour of `List`. If we think of `List`s as sets of intermediate results, `flatMap` becomes a construct that calculates permutations and combinations.\n",
    "\n",
    "`List`'s *complication* is calculating all possible intermediate results.\n",
    "\n",
    "### `Future`\n",
    "`Future`'s `flatMap` allows us to sequence asynchronous computations without worrying about the complexities of thread pools and schedulers."
   ]
  },
  {
   "cell_type": "code",
   "execution_count": null,
   "metadata": {},
   "outputs": [],
   "source": [
    "def doSomethingLongRunning: Future[Int] = ???\n",
    "def doSomethingElseLongRunning: Future[Int] = ???\n",
    "def doSomethingVeryLongRunning: Future[Int] =\n",
    "  for {\n",
    "    result1 <- doSomethingLongRunning\n",
    "    result2 <- doSomethingElseLongRunning\n",
    "  } yield result1 + result2"
   ]
  },
  {
   "cell_type": "markdown",
   "metadata": {},
   "source": [
    "If you're familiar with `Future`, you’ll know that the code above is running each operation *in sequence*. This becomes clearer if we expand out the for comprehension to show the nested calls to `flatMap`:"
   ]
  },
  {
   "cell_type": "code",
   "execution_count": null,
   "metadata": {},
   "outputs": [],
   "source": [
    "def doSomethingVeryLongRunning: Future[Int] =\n",
    "  doSomethingLongRunning.flatMap { result1 =>\n",
    "    doSomethingElseLongRunning.map { result2 =>\n",
    "      result1 + result2\n",
    "    }\n",
    "  }"
   ]
  },
  {
   "cell_type": "markdown",
   "metadata": {},
   "source": [
    "Each `Future` in our sequence is created by a function that receives the result from a previous `Future`. In other words, each step in our computation can only start once the previous step is finished.\n",
    "\n",
    "\n",
    "\n",
    "`Future`s *can* be ran in parallel, of course, but monads are all about sequencing computations. Also, running `Future`s in parallel shows how `Future`s break **referential transparency**.\n",
    "\n",
    "## Definition of a Monad\n",
    "A monad requires slightly more than just `flatMap` a monad needs both:\n",
    "- `pure` of type `A => F[A]`\n",
    "- `flatMap` of type `(F[A], A => F[B]) => F[B]`\n",
    "\n",
    "`pure` abstracts over constructors. Every monad can be created from a plain value. Think of `pure` as an abstraction of `Some(value)` for `Option`, `Future.successful(value)` for `Future`, and `List(value)` for `List`.\n",
    "\n",
    "Here is a simplified version of the `Monad` type class in Cats:"
   ]
  },
  {
   "cell_type": "code",
   "execution_count": null,
   "metadata": {},
   "outputs": [],
   "source": [
    "// Calling it MyMonad to not overwrite cats.Monad\n",
    "trait MyMonad[F[_]] {\n",
    "  def pure[A](value: A): F[A]\n",
    "  def flatMap[A, B](value: F[A])(func: A => F[B]): F[B]\n",
    "}"
   ]
  },
  {
   "cell_type": "markdown",
   "metadata": {},
   "source": [
    "## Monad Laws\n",
    "Like most type classes, `Monad` has laws:\n",
    "\n",
    "**Left Identity**\n",
    "\n",
    "`pure(value).flatMap(f) == f(value)`"
   ]
  },
  {
   "cell_type": "code",
   "execution_count": null,
   "metadata": {},
   "outputs": [],
   "source": [
    "val result1 = \"10\".some.flatMap(parseInt)\n",
    "val result2 = parseInt(\"10\")"
   ]
  },
  {
   "cell_type": "markdown",
   "metadata": {},
   "source": [
    "**Right Identity**\n",
    "\n",
    "`monad.flatMap(pure) == monad`"
   ]
  },
  {
   "cell_type": "code",
   "execution_count": null,
   "metadata": {},
   "outputs": [],
   "source": [
    "val result1 = \"10\".some\n",
    "val result2 = \"10\".some.flatMap(_.some)"
   ]
  },
  {
   "cell_type": "markdown",
   "metadata": {},
   "source": [
    "**Associativity**\n",
    "\n",
    "`monad.flatMap(f).flatMap(g) == monad.flatMap(x => f(x).flatMap(g))`"
   ]
  },
  {
   "cell_type": "code",
   "execution_count": null,
   "metadata": {},
   "outputs": [],
   "source": [
    "def tenDividedBy(a: Int) = divide(10, a)\n",
    "\n",
    "val result1 = \"10\".some.flatMap(parseInt).flatMap(tenDividedBy)\n",
    "val result2 = \"10\".some.flatMap(x => parseInt(x).flatMap(tenDividedBy))"
   ]
  },
  {
   "cell_type": "markdown",
   "metadata": {},
   "source": [
    "## Excercise\n",
    "Lets do an exercise from the book and prove that every `Monad` is also a `Functor`:"
   ]
  },
  {
   "cell_type": "code",
   "execution_count": null,
   "metadata": {},
   "outputs": [],
   "source": [
    "// Calling it MyMonad to not overwrite cats.Monad\n",
    "trait MyMonad[F[_]] {\n",
    "  def pure[A](value: A): F[A]\n",
    "  def flatMap[A, B](value: F[A])(func: A => F[B]): F[B]\n",
    "  def map[A, B](value: F[A])(func: A => B): F[B] =\n",
    "    ???\n",
    "}"
   ]
  },
  {
   "cell_type": "markdown",
   "metadata": {},
   "source": [
    "Side Note:\n",
    "\n",
    "This interesting phenonemon where we are severly limited in the number of possible implementations of a polymorphic function is called **parametricity**. There is only one way to write this function and have it compile. Go ahead and try to find another.\n",
    "\n",
    "## Monads in Cats\n",
    "### Monad Type Class\n",
    "The monad type class is `cats.Monad`. It extends two other type classes: `FlatMap`, which provides the `flatMap` method, and `Applicative`, which provides, amongst other things, the `pure` function. `Applicative` also extends `Functor`, which gives every `Monad` a `map` method as we just saw in the exercise.\n",
    "\n",
    "Here are some examples:"
   ]
  },
  {
   "cell_type": "code",
   "execution_count": null,
   "metadata": {},
   "outputs": [],
   "source": [
    "val opt1 = Monad[Option].pure(3)\n",
    "val opt2 = Monad[Option].flatMap(opt1)(a => Some(a + 2))\n",
    "val opt3 = Monad[Option].map(opt2)(a => 100 * a)\n",
    "\n",
    "val list1 = Monad[List].pure(3)\n",
    "val list2 = Monad[List].flatMap(List(1, 2, 3))(a => List(a, a * 10))\n",
    "val list3 = Monad[List].map(list2)(_ + 123)"
   ]
  },
  {
   "cell_type": "markdown",
   "metadata": {},
   "source": [
    "`Monad` also provides many other userful methods, including all the methods from `Applicative` and `Functor`.\n",
    "\n",
    "### Default Instances\n",
    "Cats also provides instances for all the monads in the standard library (`Option`, `List`, `Vector`, etc).\n",
    "\n",
    "Cats also provides a `Monad` for `Future`. Unlike the methods on the `Future` class itself, the `pure` and `flatMap` methods on the monad can’t accept implicit `ExecutionContext` parameters (because the parameters aren’t part of the\n",
    "definitions in the `Monad` trait). To work around this, Cats requires us to have an `ExecutionContext` in scope when we summon a `Monad` for `Future`:"
   ]
  },
  {
   "cell_type": "code",
   "execution_count": null,
   "metadata": {},
   "outputs": [],
   "source": [
    "// Need to restart kernel without global ExecutionContext import to show this\n",
    "val fm = Monad[Future]\n",
    "// The Monad instance uses the captured ExecutionContext for subsequent calls to pure and flatMap"
   ]
  },
  {
   "cell_type": "markdown",
   "metadata": {},
   "source": [
    "### Monad Syntax\n",
    "We can use `pure` to construct instances of a monad. We’ll often need to specify the type parameter to disambiguate the particular instance we want."
   ]
  },
  {
   "cell_type": "code",
   "execution_count": null,
   "metadata": {},
   "outputs": [],
   "source": [
    "val opt  = 1.pure[Option]\n",
    "val list = 1.pure[List]"
   ]
  },
  {
   "cell_type": "markdown",
   "metadata": {},
   "source": [
    "It’s difficult to demonstrate the `flatMap` and `map` methods directly on Scala monads like `Option` and `List`, because they define their own explicit versions of those methods. Instead we’ll write a generic function that performs a calculation on parameters that come wrapped in a monad of the user’s choice:"
   ]
  },
  {
   "cell_type": "code",
   "execution_count": null,
   "metadata": {},
   "outputs": [],
   "source": [
    "def sumSquare[F[_]: Monad](a: F[Int], b: F[Int]): F[Int] =\n",
    "  for {\n",
    "    x <- a\n",
    "    y <- b\n",
    "  } yield x*x + y*y\n",
    "\n",
    "sumSquare(3.some, 4.some)\n",
    "\n",
    "sumSquare(List(1, 2, 3), List(4, 5))"
   ]
  },
  {
   "cell_type": "markdown",
   "metadata": {},
   "source": [
    "### The Identity Monad\n",
    "The `sumSquare` method is pretty neat. What if we want to use it with plain old values?"
   ]
  },
  {
   "cell_type": "code",
   "execution_count": null,
   "metadata": {},
   "outputs": [],
   "source": [
    "sumSquare(3, 4)"
   ]
  },
  {
   "cell_type": "markdown",
   "metadata": {},
   "source": [
    "Quite a lovely error message isn't it? It would be awesome if we could use it with monadic and non-monadic code. Fortunately, Cats provides the `Id` type to bridge the gap:"
   ]
  },
  {
   "cell_type": "code",
   "execution_count": null,
   "metadata": {},
   "outputs": [],
   "source": [
    "sumSquare[Id](3, 4)"
   ]
  },
  {
   "cell_type": "markdown",
   "metadata": {},
   "source": [
    "Interesting. Lets take a look at the definition of `Id`:"
   ]
  },
  {
   "cell_type": "code",
   "execution_count": null,
   "metadata": {},
   "outputs": [],
   "source": [
    "// Calling it MyId to not overwrite cats.Id\n",
    "type MyId[A] = A"
   ]
  },
  {
   "cell_type": "markdown",
   "metadata": {},
   "source": [
    "It's just a type alias to turn a type into a single-parameter type constructor. You can cast anything to the corresponding `Id`. Cats provides instances for various type classes for `Id`, including `Functor` and `Monad`:"
   ]
  },
  {
   "cell_type": "code",
   "execution_count": null,
   "metadata": {},
   "outputs": [],
   "source": [
    "val stringId = \"Dave\" : Id[String]\n",
    "val intId    = 123 : Id[Int]\n",
    "val listId   = List(1, 2, 3) : Id[List[Int]]\n",
    "\n",
    "val a = Monad[Id].pure(3)\n",
    "val b = Monad[Id].flatMap(a)(_ + 1)\n",
    "\n",
    "val c =\n",
    "  for {\n",
    "    x <- a\n",
    "    y <- b\n",
    "  } yield x + y"
   ]
  },
  {
   "cell_type": "markdown",
   "metadata": {},
   "source": [
    "### Exercise\n",
    "Lets try to implement `Monad` for `Id`:"
   ]
  },
  {
   "cell_type": "code",
   "execution_count": null,
   "metadata": {},
   "outputs": [],
   "source": [
    "// Ignore StackSafeMonad for now\n",
    "implicit val monadForId: Monad[Id] = new Monad[Id] with cats.StackSafeMonad[Id] {\n",
    "  override def pure[A](value: A): Id[A] = value\n",
    "  override def map[A, B](initial: Id[A])(func: A => B): Id[B] = func(initial)\n",
    "  override def flatMap[A, B](initial: Id[A])(func: A => Id[B]): Id[B] = func(initial)\n",
    "}"
   ]
  },
  {
   "cell_type": "markdown",
   "metadata": {},
   "source": [
    "This ties in with our understanding of functors and monads as sequencing type classes. Each type class allows us to sequence operations ignoring some kind of complication. In the case of `Id` there is no complication, making `map` and\n",
    "`flatMap` the same thing.\n",
    "\n",
    "### Either\n",
    "In 2.11 and earlier, `Either` wasn't really a monad since it didn't have `map` and `flatMap` methods. In 2.12 it became *right biased*. Now `Either` makes the decision that the right side represents the success case and supports `map` and `flatMap` directly. Cats back-ports this behavior to 2.11 by implementing `Monad` for `Either`, allowing you to call `map` and `flatMap` on it as you would in 2.12.\n",
    "\n",
    "### Either Syntax\n",
    "You can create instances of `Either` with `asRight` and `asLeft`:"
   ]
  },
  {
   "cell_type": "code",
   "execution_count": null,
   "metadata": {},
   "outputs": [],
   "source": [
    "val a = 3.asRight[String]\n",
    "val b = 4.asRight[String]\n",
    "\n",
    "val result = for {\n",
    "  x <- a\n",
    "  y <- b\n",
    "} yield x*x + y*y"
   ]
  },
  {
   "cell_type": "markdown",
   "metadata": {},
   "source": [
    "These \"smart constructors\" have advantages over `Left.apply` and `Right.apply`, similar to the advantages of `value.some` over `Some(value)`. They return type `Either` instead of `Left` and `Right` which helps avoid inference bugs cause by over-narrowing.\n",
    "\n",
    "Cats adds useful extension methods to `Either` and the `Either` companion object:"
   ]
  },
  {
   "cell_type": "code",
   "execution_count": null,
   "metadata": {},
   "outputs": [],
   "source": [
    "val a = Either.catchOnly[NumberFormatException](\"foo\".toInt)\n",
    "val b = Either.catchNonFatal(sys.error(\"Badness\"))\n",
    "\n",
    "// We can also create Either form other types\n",
    "val fromTry = Either.fromTry(scala.util.Try(\"foo\".toInt))\n",
    "val fromOpt = Either.fromOption[String, Int](None, \"Badness\")\n",
    "\n",
    "// getOrElse and orElse are added\n",
    "val getOrElse = \"Error\".asLeft[Int].getOrElse(0)\n",
    "val orElse    = \"Error\".asLeft[Int].orElse(2.asRight[String])\n",
    "\n",
    "// ensure allows us to check a predicate and return Left if it isn't satisfied\n",
    "val ensure = -1.asRight[String].ensure(\"Must be non-negative!\")(_ > 0)\n",
    "\n",
    "// We get recover and recoverWith, similar to Future\n",
    "val recover = \"error\".asLeft[Int].recover {\n",
    "  case str => -1\n",
    "}\n",
    "\n",
    "val recoverWith = \"error\".asLeft[Int].recoverWith {\n",
    "  case str => Right(-1)\n",
    "}\n",
    "\n",
    "// We get leftMap and bimap to compliment map\n",
    "val leftMap = \"foo\".asLeft[Int].leftMap(_.reverse)\n",
    "val bimap1  = 6.asRight[String].bimap(_.reverse, _ * 7)\n",
    "val bimap2  = \"bar\".asLeft[Int].bimap(_.reverse, _ * 7)\n",
    "\n",
    "// Swap lets up switch the left and right\n",
    "val swap = 123.asRight[String].swap\n",
    "\n",
    "// Finally, there is a bunch of conversion methods\n",
    "val toOpt  = a.toOption\n",
    "val toList = a.toList\n",
    "val toTry  = a.toTry\n",
    "val toVal  = a.toValidated"
   ]
  },
  {
   "cell_type": "markdown",
   "metadata": {},
   "source": [
    "### Error Handling and MonadError\n",
    "The book says this chapter is optional so I'll give it a quick summary. You can abstract over error handling behavior similar to that seen in `Either`, `Try`, and `Future` with the type class `MonadError`. Here is a simplified definition if you're curious:"
   ]
  },
  {
   "cell_type": "code",
   "execution_count": null,
   "metadata": {},
   "outputs": [],
   "source": [
    "// Calling it MyMonadError to not overwrite cats.MonadError\n",
    "trait MyMonadError[F[_], E] extends Monad[F] {\n",
    "  def raiseError[A](e: E): F[A]\n",
    "  def handleErrorWith[A](fa: F[A])(f: E => F[A]): F[A]\n",
    "  def ensure[A](fa: F[A])(error: => E)(predicate: A => Boolean): F[A] =\n",
    "    flatMap(fa)(a => if (predicate(a)) pure(a) else raiseError(error))\n",
    "  // And plenty more utility methods...\n",
    "}"
   ]
  },
  {
   "cell_type": "markdown",
   "metadata": {},
   "source": [
    "### The Eval Monad\n",
    "`cats.Eval` is a monad that allows us to abstract over different *models of evaluation*. It abstracts over 3 models *eager*, *lazy*, and *memoized*."
   ]
  },
  {
   "cell_type": "code",
   "execution_count": null,
   "metadata": {},
   "outputs": [],
   "source": [
    "// Eager and memoized\n",
    "val x = {\n",
    "  println(\"Computing X\")\n",
    "  math.random\n",
    "}"
   ]
  },
  {
   "cell_type": "code",
   "execution_count": null,
   "metadata": {},
   "outputs": [],
   "source": [
    "x"
   ]
  },
  {
   "cell_type": "code",
   "execution_count": null,
   "metadata": {},
   "outputs": [],
   "source": [
    "// Lazy and not memoized\n",
    "def y = {\n",
    "  println(\"Computing Y\")\n",
    "  math.random\n",
    "}"
   ]
  },
  {
   "cell_type": "code",
   "execution_count": null,
   "metadata": {},
   "outputs": [],
   "source": [
    "y"
   ]
  },
  {
   "cell_type": "code",
   "execution_count": null,
   "metadata": {},
   "outputs": [],
   "source": [
    "lazy val z = {\n",
    "  println(\"Computing Z\")\n",
    "  math.random\n",
    "}"
   ]
  },
  {
   "cell_type": "code",
   "execution_count": null,
   "metadata": {},
   "outputs": [],
   "source": [
    "z"
   ]
  },
  {
   "cell_type": "markdown",
   "metadata": {},
   "source": [
    "`Eval` has three subtypes: `Now`, `Later`, and `Always`."
   ]
  },
  {
   "cell_type": "code",
   "execution_count": null,
   "metadata": {},
   "outputs": [],
   "source": [
    "val now = Eval.now {\n",
    "  println(\"Computing now\")\n",
    "  math.random\n",
    "}\n",
    "\n",
    "val later = Eval.later {\n",
    "  println(\"Computing later\")\n",
    "  math.random\n",
    "}\n",
    "\n",
    "val always = Eval.always {\n",
    "  println(\"Computing always\")\n",
    "  math.random\n",
    "}"
   ]
  },
  {
   "cell_type": "code",
   "execution_count": null,
   "metadata": {},
   "outputs": [],
   "source": [
    "val nowValue = now.value"
   ]
  },
  {
   "cell_type": "code",
   "execution_count": null,
   "metadata": {},
   "outputs": [],
   "source": [
    "val laterValue = later.value"
   ]
  },
  {
   "cell_type": "code",
   "execution_count": null,
   "metadata": {},
   "outputs": [],
   "source": [
    "val alwaysValue = always.value"
   ]
  },
  {
   "cell_type": "markdown",
   "metadata": {},
   "source": [
    "Like all monads, `Eval`'s `map` and `flatMap` methods add computations to a chain. In this case, however, the chain is stored explicitly as a list of functions. The functions aren’t run until we call `Eval`'s `value` method to request a result:"
   ]
  },
  {
   "cell_type": "code",
   "execution_count": null,
   "metadata": {},
   "outputs": [],
   "source": [
    "val greeting = Eval.\n",
    "  now { println(\"Step 1\"); \"Hello\" }.\n",
    "  map { str => println(\"Step 2\"); s\"$str world\" }"
   ]
  },
  {
   "cell_type": "code",
   "execution_count": null,
   "metadata": {},
   "outputs": [],
   "source": [
    "greeting.value"
   ]
  },
  {
   "cell_type": "markdown",
   "metadata": {},
   "source": [
    "Note that, while the semantics of the originating `Eval` instances are maintained, mapping and flatMapping functions are always caled lazily and on demand (`def` semantics).\n",
    "\n",
    "`Eval` has a `memoize` method that allows us to memoize a chain of computations. The result of the chain up to the call to `memoize` is cached, whereas calculations after the call retain their original semantics:"
   ]
  },
  {
   "cell_type": "code",
   "execution_count": null,
   "metadata": {},
   "outputs": [],
   "source": [
    "val saying = Eval.\n",
    "  always { println(\"Step 1\"); \"The cat\" }.\n",
    "  map { str => println(\"Step 2\"); s\"$str sat on\" }.\n",
    "  memoize.\n",
    "  map { str => println(\"Step 3\"); s\"$str the mat\" }"
   ]
  },
  {
   "cell_type": "code",
   "execution_count": null,
   "metadata": {},
   "outputs": [],
   "source": [
    "saying.value"
   ]
  },
  {
   "cell_type": "markdown",
   "metadata": {},
   "source": [
    "A useful property of `Eval` is that it's `map` and `flatMap` methods are *trampolined*. This means that we can nest calls to `map` and `flaMap` without consuming stack frames or blowing the stack. `Eval` is stack safe."
   ]
  },
  {
   "cell_type": "code",
   "execution_count": null,
   "metadata": {},
   "outputs": [],
   "source": [
    "def factorial(n: BigInt): BigInt =\n",
    "  if(n == 1) n else n * factorial(n - 1)\n",
    "\n",
    "factorial(50000)"
   ]
  },
  {
   "cell_type": "code",
   "execution_count": null,
   "metadata": {},
   "outputs": [],
   "source": [
    "// Let's try that again\n",
    "def factorial(n: BigInt): Eval[BigInt] =\n",
    "  if(n == 1) {\n",
    "    Eval.now(n)\n",
    "  } else {\n",
    "    factorial(n - 1).map(_ * n)\n",
    "  }\n",
    "\n",
    "factorial(50000).value"
   ]
  },
  {
   "cell_type": "code",
   "execution_count": null,
   "metadata": {},
   "outputs": [],
   "source": [
    "def factorial(n: BigInt): Eval[BigInt] =\n",
    "  if(n == 1) {\n",
    "    Eval.now(n)\n",
    "  } else {\n",
    "    Eval.defer(factorial(n - 1).map(_ * n))\n",
    "  }\n",
    "\n",
    "factorial(50000).value"
   ]
  },
  {
   "cell_type": "markdown",
   "metadata": {},
   "source": [
    "`Eval.defer` takes an existing instance of `Eval` and defers its evaluation. The `defer` method is trampolined like `map` and `flatMap`, so we can use it as a quick way to make an existing operation stack safe. We must remember that trampolining is not free. It avoids consuming stack by creating a chain of function objects on the head. There is still a limit, it's just based on the size of the heap rather than the stack.\n",
    "\n",
    "### Exercise\n",
    "Let's make `foldRight` stack safe using `Eval`:"
   ]
  },
  {
   "cell_type": "code",
   "execution_count": null,
   "metadata": {},
   "outputs": [],
   "source": [
    "def foldRight[A, B](as: List[A], acc: B)(fn: (A, B) => B): B =\n",
    "  as match {\n",
    "    case head :: tail =>\n",
    "      fn(head, foldRight(tail, acc)(fn))\n",
    "    case Nil =>\n",
    "      acc\n",
    "  }\n",
    "\n",
    "val list = List.fill(50000)(1)\n",
    "\n",
    "foldRight(list, 0)(_ + _)"
   ]
  },
  {
   "cell_type": "markdown",
   "metadata": {},
   "source": [
    "### The Writer Monad\n",
    "`cats.data.Writer` is a monad that lets us carry a log along with the computation and extract the log along with the final result. A common use for `Writer` is recording sequences of steps in a multi-threaded computation where standard imperative logging techniques can result in interleaved messages from different contexts.\n",
    "\n",
    "A `Writer[W, A]` carries two values, the log of type `W` and a result of type `A`."
   ]
  },
  {
   "cell_type": "code",
   "execution_count": null,
   "metadata": {},
   "outputs": [],
   "source": [
    "// We can create a writer with logs and a result using its constructor\n",
    "val writer1 = Writer(Vector(\n",
    "  \"It was the best of times\",\n",
    "  \"it was the worst of times\"\n",
    "), 1859)\n",
    "\n",
    "// Or we can use this syntax\n",
    "val writer2 = 1859.writer(Vector(\"It was the best of times\", \"it was the worst of times\"))\n",
    "\n",
    "// Or we can create it using the pure syntax, as long as we have Monoid[W] in scope to create an empty log\n",
    "type Logged[A] = Writer[Vector[String], A]\n",
    "val writerNoLog = 123.pure[Logged]\n",
    "\n",
    "// We can create a writer with a log but no result\n",
    "val writerNoResult = Vector(\"msg1\", \"msg2\", \"msg3\").tell\n",
    "\n",
    "// We can extract the result and log using .value and .written respectively\n",
    "val log1 = writer1.written\n",
    "val result1 = writer1.value\n",
    "\n",
    "// Or we can get both at once using .run\n",
    "val (log2, result2) = writer1.run\n",
    "\n",
    "// We can use map and flatMap since it's a monad\n",
    "val writer3 = for {\n",
    "  a <- 10.pure[Logged]\n",
    "  _ <- Vector(\"a\", \"b\", \"c\").tell\n",
    "  b <- 32.writer(Vector(\"x\", \"y\", \"z\"))\n",
    "} yield a + b\n",
    "\n",
    "val result3 = writer3.run\n",
    "\n",
    "// We can use mapWritten to map on the logs\n",
    "val mapWritten = writer1.mapWritten(_.map(_.toUpperCase)).run\n",
    "\n",
    "// We can transform both the logs and result at once using bimap or mapBoth\n",
    "val bimap = writer1.bimap(\n",
    "  log => log.map(_.toUpperCase),\n",
    "  res => res * 100\n",
    ").run\n",
    "\n",
    "val mapBoth = writer1.mapBoth { (log, res) =>\n",
    "  val log2 = log.map(_.toUpperCase)\n",
    "  val res2 = res * 100\n",
    "  (log2, res2)\n",
    "}.run\n",
    "\n",
    "// We can clear the log with reset\n",
    "val reset = writer1.reset.run\n",
    "\n",
    "// And we can swap the log and result with swap\n",
    "val swap = writer1.swap.run"
   ]
  },
  {
   "cell_type": "markdown",
   "metadata": {},
   "source": [
    "**TODO: Add the Writer exercise?**\n",
    "\n",
    "### The Reader Monad\n",
    "`cats.data.Reader` allows us to sequence a bunch of operations that all depend on one input. A common use is dependency injection. If we have a bunch of operations that all depend on some configuration, we can chain them together using a `Reader` to produce one large operation that accepts the configuration as a parameter."
   ]
  },
  {
   "cell_type": "code",
   "execution_count": null,
   "metadata": {},
   "outputs": [],
   "source": [
    "// We can create a Reader from a function A => B using Reader.apply\n",
    "case class Cat(name: String, favoriteFood: String)\n",
    "\n",
    "val catNameReader: Reader[Cat, String] =\n",
    "  Reader(cat => cat.name)\n",
    "\n",
    "// We can extract the function using .run and call it as usual\n",
    "val catName = catNameReader.run(Cat(\"Garfield\", \"lasagne\"))"
   ]
  },
  {
   "cell_type": "markdown",
   "metadata": {},
   "source": [
    "Pretty simple. So far `Reader` looks just like a wrapper around a function. What advantage do readers give us over raw functions?\n",
    "\n",
    "The power of `Reader` comes from it's `map` and `flatMap`."
   ]
  },
  {
   "cell_type": "code",
   "execution_count": null,
   "metadata": {},
   "outputs": [],
   "source": [
    "// map extends the computation by passing its result through a function\n",
    "val greetKittyReader: Reader[Cat, String] =\n",
    "  catNameReader.map(name => s\"Hello $name\")\n",
    "\n",
    "val greetKitty = greetKittyReader.run(Cat(\"Heathcliff\", \"junk food\"))\n",
    "\n",
    "// flatMap allows us to combine readers that depend on the same input type\n",
    "val feedKittyReader: Reader[Cat, String] =\n",
    "  Reader(cat => s\"Have a nice bowl of ${cat.favoriteFood}\")\n",
    "\n",
    "val greetAndFeedReader: Reader[Cat, String] =\n",
    "  for {\n",
    "    greet <- greetKittyReader\n",
    "    feed <- feedKittyReader\n",
    "  } yield s\"$greet. $feed.\"\n",
    "\n",
    "val greetAndFeedGarfield   = greetAndFeedReader(Cat(\"Garfield\", \"lasagne\"))\n",
    "val greetAndFeedHeathcliff = greetAndFeedReader(Cat(\"Heathcliff\", \"junk food\"))"
   ]
  },
  {
   "cell_type": "markdown",
   "metadata": {},
   "source": [
    "### Exercise\n",
    "Lets create a complete example of using `Reader` to build a program that accepts configuration as a parameter. The configuration will consist of two databases: a list of valid users and a list of their passwords:"
   ]
  },
  {
   "cell_type": "code",
   "execution_count": null,
   "metadata": {},
   "outputs": [],
   "source": [
    "case class Db(\n",
    "  usernames: Map[Int, String],\n",
    "  passwords: Map[String, String]\n",
    ")\n",
    "\n",
    "// Lets create a type alias for the Reader that will make the rest of the code shorter\n",
    "// type DbReader[A] = ???\n",
    "\n",
    "// Now lets implement these methods\n",
    "def findUsername(userId: Int): DbReader[Option[String]] =\n",
    "  ???\n",
    "\n",
    "def checkPassword(username: String, password: String): DbReader[Boolean] =\n",
    "  ???\n",
    "\n",
    "// Finally, lets use these methods to create a checkLogin\n",
    "def checkLogin(userId: Int, password: String): DbReader[Boolean] =\n",
    "  ???\n",
    "\n",
    "// Now lets test it out\n",
    "val users = Map(\n",
    "  1 -> \"dade\",\n",
    "  2 -> \"kate\",\n",
    "  3 -> \"margo\"\n",
    ")\n",
    "\n",
    "val passwords = Map(\n",
    "  \"dade\" -> \"zerocool\",\n",
    "  \"kate\" -> \"acidburn\",\n",
    "  \"margo\" -> \"secret\"\n",
    ")\n",
    "\n",
    "val db = Db(users, passwords)\n",
    "\n",
    "val login1 = checkLogin(1, \"zerocool\").run(db)\n",
    "val login2 = checkLogin(1, \"crashoverride\").run(db)\n",
    "val login3 = checkLogin(4, \"davinci\").run(db)"
   ]
  },
  {
   "cell_type": "markdown",
   "metadata": {},
   "source": [
    "### The State Monad\n",
    "`cats.data.State` allows us to pass additional state around as part of a computation. It allows us to model mutable state in a purely functional way, without using mutation.\n",
    "\n",
    "`State[S, A]` represents a function of type `S => (S, A)` where `S` is the type of the state and `A` is the type of the result.\n",
    "\n",
    "An instance of `State` is a function that does two things:\n",
    "- transforms an input state to an output state.\n",
    "- computes a result.\n",
    "\n",
    "We can \"run\" the `State` by providing an inital state. `State` uses `Eval` to maintain stack safety."
   ]
  },
  {
   "cell_type": "code",
   "execution_count": null,
   "metadata": {},
   "outputs": [],
   "source": [
    "val a = State[Int, String] { state =>\n",
    "  (state, s\"The state is $state\")\n",
    "}\n",
    "\n",
    "// Get the state and the result:\n",
    "val (state, result) = a.run(10).value\n",
    "\n",
    "// Get the state, ignore the result:\n",
    "val state2 = a.runS(10).value\n",
    "\n",
    "// Get the result, ignore the state:\n",
    "val result2 = a.runA(10).value\n",
    "\n",
    "// The power of state comes from combining instances\n",
    "val step1 = State[Int, String] { num =>\n",
    "  val ans = num + 1\n",
    "  (ans, s\"Result of step1: $ans\")\n",
    "}\n",
    "\n",
    "val step2 = State[Int, String] { num =>\n",
    "  val ans = num * 2\n",
    "  (ans, s\"Result of step2: $ans\")\n",
    "}\n",
    "\n",
    "val both = for {\n",
    "  a <- step1\n",
    "  b <- step2\n",
    "} yield (a, b)\n",
    "\n",
    "val (state3, result3) = both.run(20).value"
   ]
  },
  {
   "cell_type": "markdown",
   "metadata": {},
   "source": [
    "Cats provides several convenience constructors for creating primitive states."
   ]
  },
  {
   "cell_type": "code",
   "execution_count": null,
   "metadata": {},
   "outputs": [],
   "source": [
    "// .get extracts the state as the result:\n",
    "val getDemo = State.get[Int].run(10).value\n",
    "\n",
    "// .set updates the state and returns unit as the result:\n",
    "val setDemo = State.set[Int](30).run(10).value\n",
    "\n",
    "// .pure ignores the state and returns a supplied result:\n",
    "val pureDemo = State.pure[Int, String](\"Result\").run(10).value\n",
    "\n",
    "// .inspect extracts the state via a tranformation function:\n",
    "val inspectDemo = State.inspect[Int, String](_ + \"!\").run(10).value\n",
    "\n",
    "// .modify updates the state using an update function:\n",
    "val modifyDemo = State.modify[Int](_ + 1).run(10).value"
   ]
  },
  {
   "cell_type": "markdown",
   "metadata": {},
   "source": [
    "We can assemble these building blocks using a for comprehension."
   ]
  },
  {
   "cell_type": "code",
   "execution_count": null,
   "metadata": {},
   "outputs": [],
   "source": [
    "import State._\n",
    "\n",
    "val program: State[Int, (Int, Int, Int)] = for {\n",
    "  a <- get[Int]\n",
    "  _ <- set[Int](a + 1)\n",
    "  b <- get[Int]\n",
    "  _ <- modify[Int](_ + 1)\n",
    "  c <- inspect[Int, Int](_ * 1000)\n",
    "} yield (a, b, c)\n",
    "\n",
    "val (state, result) = program.run(1).value"
   ]
  },
  {
   "cell_type": "markdown",
   "metadata": {},
   "source": [
    "### Exercise\n",
    "**TODO**"
   ]
  },
  {
   "cell_type": "markdown",
   "metadata": {},
   "source": [
    "## Other Monads in Cats\n",
    "`IO`\n",
    "\n",
    "An *effect* monad. Better replacement for `Future`. Makes all code referentially transparent. It's *complication* is side-effecting.\n",
    "\n",
    "`NonEmptyList`\n",
    "\n",
    "Same as list, but represents a non-empty set of intermediate results.\n",
    "\n",
    "`Chain`\n",
    "\n",
    "Alternative to `List` and `Vector` with different performance characteristics.\n",
    "\n",
    "`Ior`\n",
    "\n",
    "Inclusive-or. Similar to Either, but also has the ability to be *both*. Can be thought of as `Result`, `Error`, or `ResultAndWarning`. \n",
    "\n",
    "`Kleisli`\n",
    "\n",
    "Same thing as `ReaderT` which is basically an alias for `A => F[B]`. Very handy and not nearly as intimidating as its name.\n",
    "\n",
    "`Free`\n",
    "\n",
    "Turn any sealed hierarchy into a monad. Get the result by converting to a real monad at a later time with an *interpreter*.\n",
    "\n",
    "`And more...`\n",
    "\n",
    "Many more from popular libraries such as `Stream` from fs2, `ConnectionIO` from doobie, and `Parser` from atto."
   ]
  }
 ],
 "metadata": {
  "kernelspec": {
   "display_name": "Scala",
   "language": "scala",
   "name": "scala"
  },
  "language_info": {
   "codemirror_mode": "text/x-scala",
   "file_extension": ".scala",
   "mimetype": "text/x-scala",
   "name": "scala",
   "nbconvert_exporter": "script",
   "version": "2.13.0"
  }
 },
 "nbformat": 4,
 "nbformat_minor": 2
}
