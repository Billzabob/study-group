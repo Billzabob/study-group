{
 "cells": [
  {
   "cell_type": "code",
   "execution_count": null,
   "metadata": {},
   "outputs": [],
   "source": [
    "import $ivy.`org.typelevel::cats-core:2.1.0`\n",
    "\n",
    "// These are all the imports you need for everything here\n",
    "import cats.implicits._\n",
    "import cats.data.Reader"
   ]
  },
  {
   "cell_type": "markdown",
   "metadata": {},
   "source": [
    "# The Reader Monad\n",
    "`cats.data.Reader` allows us to sequence a bunch of operations that all depend on one input. A common use is dependency injection. If we have a bunch of operations that all depend on some configuration, we can chain them together using a `Reader` to produce one large operation that accepts the configuration as a parameter."
   ]
  },
  {
   "cell_type": "code",
   "execution_count": null,
   "metadata": {},
   "outputs": [],
   "source": [
    "// We can create a Reader from a function A => B using Reader.apply\n",
    "case class Cat(name: String, favoriteFood: String)\n",
    "\n",
    "val catNameReader: Reader[Cat, String] =\n",
    "  Reader(cat => cat.name)\n",
    "\n",
    "// We can extract the function using .run and call it as usual\n",
    "val catName = catNameReader.run(Cat(\"Garfield\", \"lasagne\"))"
   ]
  },
  {
   "cell_type": "markdown",
   "metadata": {},
   "source": [
    "Pretty simple. So far `Reader` looks just like a wrapper around a function. What advantage do readers give us over raw functions?\n",
    "\n",
    "The power of `Reader` comes from it's `map` and `flatMap`."
   ]
  },
  {
   "cell_type": "code",
   "execution_count": null,
   "metadata": {},
   "outputs": [],
   "source": [
    "// map extends the computation by passing its result through a function\n",
    "val greetKittyReader: Reader[Cat, String] =\n",
    "  catNameReader.map(name => s\"Hello $name\")\n",
    "\n",
    "val greetKitty = greetKittyReader.run(Cat(\"Heathcliff\", \"junk food\"))\n",
    "\n",
    "// flatMap allows us to combine readers that depend on the same input type\n",
    "val feedKittyReader: Reader[Cat, String] =\n",
    "  Reader(cat => s\"Have a nice bowl of ${cat.favoriteFood}\")\n",
    "\n",
    "val greetAndFeedReader: Reader[Cat, String] =\n",
    "  for {\n",
    "    greet <- greetKittyReader\n",
    "    feed <- feedKittyReader\n",
    "  } yield s\"$greet. $feed.\"\n",
    "\n",
    "val greetAndFeedGarfield   = greetAndFeedReader(Cat(\"Garfield\", \"lasagne\"))\n",
    "val greetAndFeedHeathcliff = greetAndFeedReader(Cat(\"Heathcliff\", \"junk food\"))"
   ]
  },
  {
   "cell_type": "markdown",
   "metadata": {},
   "source": [
    "## Exercise\n",
    "Lets create a complete example of using `Reader` to build a program that accepts configuration as a parameter. The configuration will consist of two databases: a list of valid users and a list of their passwords:"
   ]
  },
  {
   "cell_type": "code",
   "execution_count": null,
   "metadata": {},
   "outputs": [],
   "source": [
    "case class Db(\n",
    "  usernames: Map[Int, String],\n",
    "  passwords: Map[String, String]\n",
    ")\n",
    "\n",
    "// Lets create a type alias for the Reader that will make the rest of the code shorter\n",
    "// type DbReader[A] = ???\n",
    "\n",
    "// Now lets implement these methods\n",
    "def findUsername(userId: Int): DbReader[Option[String]] =\n",
    "  ???\n",
    "\n",
    "def checkPassword(username: String, password: String): DbReader[Boolean] =\n",
    "  ???\n",
    "\n",
    "// Finally, lets use these methods to create a checkLogin\n",
    "def checkLogin(userId: Int, password: String): DbReader[Boolean] =\n",
    "  ???\n",
    "\n",
    "// Now lets test it out\n",
    "val users = Map(\n",
    "  1 -> \"dade\",\n",
    "  2 -> \"kate\",\n",
    "  3 -> \"margo\"\n",
    ")\n",
    "\n",
    "val passwords = Map(\n",
    "  \"dade\" -> \"zerocool\",\n",
    "  \"kate\" -> \"acidburn\",\n",
    "  \"margo\" -> \"secret\"\n",
    ")\n",
    "\n",
    "val db = Db(users, passwords)\n",
    "\n",
    "val login1 = checkLogin(1, \"zerocool\").run(db)\n",
    "val login2 = checkLogin(1, \"crashoverride\").run(db)\n",
    "val login3 = checkLogin(4, \"davinci\").run(db)"
   ]
  },
  {
   "cell_type": "code",
   "execution_count": null,
   "metadata": {
    "jupyter": {
     "source_hidden": true
    }
   },
   "outputs": [],
   "source": [
    "case class Db(\n",
    "  usernames: Map[Int, String],\n",
    "  passwords: Map[String, String]\n",
    ")\n",
    "\n",
    "// Lets create a type alias for the Reader that will make the rest of the code shorter\n",
    "type DbReader[A] = Reader[Db, A]\n",
    "\n",
    "// Now lets implement these methods\n",
    "def findUsername(userId: Int): DbReader[Option[String]] =\n",
    "  Reader(db => db.usernames.get(userId))\n",
    "\n",
    "def checkPassword(username: String, password: String): DbReader[Boolean] =\n",
    "  Reader(db => db.passwords.get(username).contains(password))\n",
    "\n",
    "// Finally, lets use these methods to create a checkLogin\n",
    "def checkLogin(userId: Int, password: String): DbReader[Boolean] =\n",
    "  for {\n",
    "    username <- findUsername(userId)\n",
    "    passwordOk <- username.map { username =>\n",
    "                    checkPassword(username, password)\n",
    "                  }.getOrElse {\n",
    "                    false.pure[DbReader]\n",
    "                  }\n",
    "  } yield passwordOk\n",
    "\n",
    "// Now lets test it out\n",
    "val users = Map(\n",
    "  1 -> \"dade\",\n",
    "  2 -> \"kate\",\n",
    "  3 -> \"margo\"\n",
    ")\n",
    "\n",
    "val passwords = Map(\n",
    "  \"dade\" -> \"zerocool\",\n",
    "  \"kate\" -> \"acidburn\",\n",
    "  \"margo\" -> \"secret\"\n",
    ")\n",
    "\n",
    "val db = Db(users, passwords)\n",
    "\n",
    "val login1 = checkLogin(1, \"zerocool\").run(db)\n",
    "val login2 = checkLogin(1, \"crashoverride\").run(db)\n",
    "val login3 = checkLogin(4, \"davinci\").run(db)"
   ]
  }
 ],
 "metadata": {
  "kernelspec": {
   "display_name": "Scala",
   "language": "scala",
   "name": "scala"
  },
  "language_info": {
   "codemirror_mode": "text/x-scala",
   "file_extension": ".scala",
   "mimetype": "text/x-scala",
   "name": "scala",
   "nbconvert_exporter": "script",
   "version": "2.13.0"
  }
 },
 "nbformat": 4,
 "nbformat_minor": 2
}
