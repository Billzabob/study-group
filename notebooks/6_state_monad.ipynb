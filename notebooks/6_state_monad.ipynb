{
 "cells": [
  {
   "cell_type": "code",
   "execution_count": null,
   "metadata": {},
   "outputs": [],
   "source": [
    "import $ivy.`org.typelevel::cats-core:2.1.0`\n",
    "\n",
    "// These are all the imports you need for everything here\n",
    "import cats.implicits._\n",
    "import cats.data.State"
   ]
  },
  {
   "cell_type": "markdown",
   "metadata": {},
   "source": [
    "# The State Monad\n",
    "`cats.data.State` allows us to pass additional state around as part of a computation. It allows us to model mutable state in a purely functional way, without using mutation.\n",
    "\n",
    "`State[S, A]` represents a function of type `S => (S, A)` where `S` is the type of the state and `A` is the type of the result.\n",
    "\n",
    "An instance of `State` is a function that does two things:\n",
    "- transforms an input state to an output state.\n",
    "- computes a result.\n",
    "\n",
    "We can \"run\" the `State` by providing an inital state. `State` uses `Eval` to maintain stack safety."
   ]
  },
  {
   "cell_type": "code",
   "execution_count": null,
   "metadata": {},
   "outputs": [],
   "source": [
    "val a = State[Int, String] { state =>\n",
    "  (state, s\"The state is $state\")\n",
    "}\n",
    "\n",
    "// Get the state and the result:\n",
    "val (state, result) = a.run(10).value\n",
    "\n",
    "// Get the state, ignore the result:\n",
    "val state2 = a.runS(10).value\n",
    "\n",
    "// Get the result, ignore the state:\n",
    "val result2 = a.runA(10).value\n",
    "\n",
    "// The power of state comes from combining instances\n",
    "val step1 = State[Int, String] { num =>\n",
    "  val ans = num + 1\n",
    "  (ans, s\"Result of step1: $ans\")\n",
    "}\n",
    "\n",
    "val step2 = State[Int, String] { num =>\n",
    "  val ans = num * 2\n",
    "  (ans, s\"Result of step2: $ans\")\n",
    "}\n",
    "\n",
    "val both = for {\n",
    "  a <- step1\n",
    "  b <- step2\n",
    "} yield (a, b)\n",
    "\n",
    "val (state3, result3) = both.run(20).value"
   ]
  },
  {
   "cell_type": "markdown",
   "metadata": {},
   "source": [
    "Cats provides several convenience constructors for creating primitive states."
   ]
  },
  {
   "cell_type": "code",
   "execution_count": null,
   "metadata": {},
   "outputs": [],
   "source": [
    "// .get extracts the state as the result:\n",
    "val getDemo = State.get[Int].run(10).value\n",
    "\n",
    "// .set updates the state and returns unit as the result:\n",
    "val setDemo = State.set[Int](30).run(10).value\n",
    "\n",
    "// .pure ignores the state and returns a supplied result:\n",
    "val pureDemo = State.pure[Int, String](\"Result\").run(10).value\n",
    "\n",
    "// .inspect extracts the state via a tranformation function:\n",
    "val inspectDemo = State.inspect[Int, String](_ + \"!\").run(10).value\n",
    "\n",
    "// .modify updates the state using an update function:\n",
    "val modifyDemo = State.modify[Int](_ + 1).run(10).value"
   ]
  },
  {
   "cell_type": "markdown",
   "metadata": {},
   "source": [
    "We can assemble these building blocks using a for comprehension."
   ]
  },
  {
   "cell_type": "code",
   "execution_count": null,
   "metadata": {},
   "outputs": [],
   "source": [
    "import State._\n",
    "\n",
    "val program: State[Int, (Int, Int, Int)] = for {\n",
    "  a <- get[Int]\n",
    "  _ <- set[Int](a + 1)\n",
    "  b <- get[Int]\n",
    "  _ <- modify[Int](_ + 1)\n",
    "  c <- inspect[Int, Int](_ * 1000)\n",
    "} yield (a, b, c)\n",
    "\n",
    "val (state, result) = program.run(1).value"
   ]
  },
  {
   "cell_type": "markdown",
   "metadata": {},
   "source": [
    "## Exercise\n",
    "Lets implement a calculator for post-order integer arithmetic expressions. Post-order expressions are a mathematical notation where you write the operator *after* it's operands. So for example:\n",
    "\n",
    "`1 + 2`\n",
    "\n",
    "becomes:\n",
    "\n",
    "`1 2 +`\n",
    "\n",
    "Although they are more difficult for a human to read, they are easy to evaluate in code. We just need to traverse the symbols from left to right, carrying a *stack* of operands with us as we go:\n",
    "\n",
    "- When we see a number, we push it onto the stack.\n",
    "- When we see an operator, we pop two operands off the stack, operate on them, and push the result in their place.\n",
    "\n",
    "This allows us to evaluate complex expressions without any parentheses. For example, we can evaluate `(1 + 2) * 3` as follows:\n",
    "\n",
    "```\n",
    "1 2 + 3 * // see 1, push onto stack\n",
    "2 + 3 *   // see 2, push onto stack\n",
    "+ 3 *     // see +, pop 1 and 2 off of stack,\n",
    "          // push (1 + 2) = 3 in their place\n",
    "3 3 *     // see 3, push onto stack\n",
    "3 *       // see 3, push onto stack\n",
    "*         // see *, pop 3 and 3 off of stack,\n",
    "          // push (3 * 3) = 9 in their place\n",
    "```\n",
    "\n",
    "Lets write an interpreter for these expressions using `State`."
   ]
  },
  {
   "cell_type": "code",
   "execution_count": null,
   "metadata": {},
   "outputs": [],
   "source": [
    "type CalcState[A] = State[List[Int], A]\n",
    "\n",
    "// Lets write evalOne that parses a single symbol into an instance of State. Lets not worry about error handling.\n",
    "def evalOne(sym: String): CalcState[Int] =\n",
    "  ???\n",
    "\n",
    "// Here's a hint, implement evalOne in using these two helper functions\n",
    "def operand(num: Int): CalcState[Int] =\n",
    "  ???\n",
    "\n",
    "def operator(func: (Int, Int) => Int): CalcState[Int] =\n",
    "  ???\n",
    "\n",
    "// Now implement evalAll by folding over the input\n",
    "def evalAll(input: List[String]): CalcState[Int] =\n",
    "  ???\n",
    "\n",
    "// Finally split the input and evaluate it in evalInput\n",
    "def evalInput(input: String): Int =\n",
    "  ???\n",
    "\n",
    "// Test it out. Should be 14.\n",
    "val result = evalInput(\"4 2 / 3 4 + *\")"
   ]
  },
  {
   "cell_type": "code",
   "execution_count": null,
   "metadata": {
    "jupyter": {
     "source_hidden": true
    }
   },
   "outputs": [],
   "source": [
    "type CalcState[A] = State[List[Int], A]\n",
    "\n",
    "// Lets write evalOne that parses a single symbol into an instance of State. Lets not worry about error handling.\n",
    "def evalOne(sym: String): CalcState[Int] =\n",
    "  sym match {\n",
    "    case \"+\" => operator(_ + _)\n",
    "    case \"-\" => operator(_ - _)\n",
    "    case \"*\" => operator(_ * _)\n",
    "    case \"/\" => operator(_ / _)\n",
    "    case num => operand(num.toInt)\n",
    "  }\n",
    "\n",
    "// Here's a hint, implement evalOne in using these two helper functions\n",
    "def operand(num: Int): CalcState[Int] =\n",
    "  State[List[Int], Int] { stack =>\n",
    "    (num :: stack, num)\n",
    "  }\n",
    "\n",
    "def operator(func: (Int, Int) => Int): CalcState[Int] =\n",
    "  State[List[Int], Int] {\n",
    "    case b :: a :: tail =>\n",
    "      val ans = func(a, b)\n",
    "      (ans :: tail, ans)\n",
    "    case _ =>\n",
    "      sys.error(\"Fail!\")\n",
    "  }\n",
    "\n",
    "// Now implement evalAll by folding over the input\n",
    "def evalAll(input: List[String]): CalcState[Int] =\n",
    "  input.foldLeft(0.pure[CalcState]) { (a, b) =>\n",
    "    a.flatMap(_ => evalOne(b))\n",
    "  }\n",
    "\n",
    "// Finally split the input and evaluate it in evalInput\n",
    "def evalInput(input: String): Int =\n",
    "  evalAll(input.split(\" \").toList).runA(Nil).value\n",
    "\n",
    "// Test it out. Should be 14.\n",
    "val result = evalInput(\"4 2 / 3 4 + *\")"
   ]
  }
 ],
 "metadata": {
  "kernelspec": {
   "display_name": "Scala (2.13)",
   "language": "scala",
   "name": "scala213"
  },
  "language_info": {
   "codemirror_mode": "text/x-scala",
   "file_extension": ".scala",
   "mimetype": "text/x-scala",
   "name": "scala",
   "nbconvert_exporter": "script",
   "version": "2.13.1"
  }
 },
 "nbformat": 4,
 "nbformat_minor": 2
}
