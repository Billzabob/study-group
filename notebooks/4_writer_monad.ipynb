{
 "cells": [
  {
   "cell_type": "code",
   "execution_count": null,
   "metadata": {},
   "outputs": [],
   "source": [
    "import $ivy.`org.typelevel::cats-core:2.1.0`\n",
    "\n",
    "// These are all the imports you need for everything here\n",
    "import cats.implicits._\n",
    "import cats.data.Writer"
   ]
  },
  {
   "cell_type": "markdown",
   "metadata": {},
   "source": [
    "# The Writer Monad\n",
    "`cats.data.Writer` is a monad that lets us carry a log along with the computation and extract the log along with the final result. A common use for `Writer` is recording sequences of steps in a multi-threaded computation where standard imperative logging techniques can result in interleaved messages from different contexts.\n",
    "\n",
    "A `Writer[W, A]` carries two values, the log of type `W` and a result of type `A`."
   ]
  },
  {
   "cell_type": "code",
   "execution_count": null,
   "metadata": {},
   "outputs": [],
   "source": [
    "// We can create a writer with logs and a result using its constructor\n",
    "val writer1 = Writer(Vector(\n",
    "  \"It was the best of times\",\n",
    "  \"it was the worst of times\"\n",
    "), 1859)\n",
    "\n",
    "// Or we can use this syntax\n",
    "val writer2 = 1859.writer(Vector(\"It was the best of times\", \"it was the worst of times\"))\n",
    "\n",
    "// Or we can create it using the pure syntax, as long as we have Monoid[W] in scope to create an empty log\n",
    "type Logged[A] = Writer[Vector[String], A]\n",
    "val writerNoLog = 123.pure[Logged]\n",
    "\n",
    "// We can create a writer with a log but no result\n",
    "val writerNoResult = Vector(\"msg1\", \"msg2\", \"msg3\").tell\n",
    "\n",
    "// We can extract the result and log using .value and .written respectively\n",
    "val log1 = writer1.written\n",
    "val result1 = writer1.value\n",
    "\n",
    "// Or we can get both at once using .run\n",
    "val (log2, result2) = writer1.run\n",
    "\n",
    "// We can use map and flatMap since it's a monad\n",
    "val writer3 = for {\n",
    "  a <- 10.pure[Logged]\n",
    "  _ <- Vector(\"a\", \"b\", \"c\").tell\n",
    "  b <- 32.writer(Vector(\"x\", \"y\", \"z\"))\n",
    "} yield a + b\n",
    "\n",
    "val result3 = writer3.run\n",
    "\n",
    "// We can use mapWritten to map on the logs\n",
    "val mapWritten = writer1.mapWritten(_.map(_.toUpperCase)).run\n",
    "\n",
    "// We can transform both the logs and result at once using bimap or mapBoth\n",
    "val bimap = writer1.bimap(\n",
    "  log => log.map(_.toUpperCase),\n",
    "  res => res * 100\n",
    ").run\n",
    "\n",
    "val mapBoth = writer1.mapBoth { (log, res) =>\n",
    "  val log2 = log.map(_.toUpperCase)\n",
    "  val res2 = res * 100\n",
    "  (log2, res2)\n",
    "}.run\n",
    "\n",
    "// We can clear the log with reset\n",
    "val reset = writer1.reset.run\n",
    "\n",
    "// And we can swap the log and result with swap\n",
    "val swap = writer1.swap.run"
   ]
  }
 ],
 "metadata": {
  "kernelspec": {
   "display_name": "Scala (2.13)",
   "language": "scala",
   "name": "scala213"
  },
  "language_info": {
   "codemirror_mode": "text/x-scala",
   "file_extension": ".scala",
   "mimetype": "text/x-scala",
   "name": "scala",
   "nbconvert_exporter": "script",
   "version": "2.13.1"
  }
 },
 "nbformat": 4,
 "nbformat_minor": 2
}
