{
 "cells": [
  {
   "cell_type": "code",
   "execution_count": null,
   "metadata": {},
   "outputs": [],
   "source": [
    "import $ivy.`org.typelevel::cats-core:2.1.0`\n",
    "\n",
    "// These are all the imports you need for everything here\n",
    "import cats.implicits._\n",
    "import cats.Eval"
   ]
  },
  {
   "cell_type": "markdown",
   "metadata": {},
   "source": [
    "# The Eval Monad\n",
    "`cats.Eval` is a monad that allows us to abstract over different *models of evaluation*. It abstracts over 3 models *eager*, *lazy*, and *memoized*."
   ]
  },
  {
   "cell_type": "code",
   "execution_count": null,
   "metadata": {},
   "outputs": [],
   "source": [
    "// Eager and memoized\n",
    "val x = {\n",
    "  println(\"Computing X\")\n",
    "  math.random\n",
    "}"
   ]
  },
  {
   "cell_type": "code",
   "execution_count": null,
   "metadata": {},
   "outputs": [],
   "source": [
    "x"
   ]
  },
  {
   "cell_type": "code",
   "execution_count": null,
   "metadata": {},
   "outputs": [],
   "source": [
    "// Lazy and not memoized\n",
    "def y = {\n",
    "  println(\"Computing Y\")\n",
    "  math.random\n",
    "}"
   ]
  },
  {
   "cell_type": "code",
   "execution_count": null,
   "metadata": {},
   "outputs": [],
   "source": [
    "y"
   ]
  },
  {
   "cell_type": "code",
   "execution_count": null,
   "metadata": {},
   "outputs": [],
   "source": [
    "lazy val z = {\n",
    "  println(\"Computing Z\")\n",
    "  math.random\n",
    "}"
   ]
  },
  {
   "cell_type": "code",
   "execution_count": null,
   "metadata": {},
   "outputs": [],
   "source": [
    "z"
   ]
  },
  {
   "cell_type": "markdown",
   "metadata": {},
   "source": [
    "`Eval` has three subtypes: `Now`, `Later`, and `Always`."
   ]
  },
  {
   "cell_type": "code",
   "execution_count": null,
   "metadata": {},
   "outputs": [],
   "source": [
    "val now = Eval.now {\n",
    "  println(\"Computing now\")\n",
    "  math.random\n",
    "}\n",
    "\n",
    "val later = Eval.later {\n",
    "  println(\"Computing later\")\n",
    "  math.random\n",
    "}\n",
    "\n",
    "val always = Eval.always {\n",
    "  println(\"Computing always\")\n",
    "  math.random\n",
    "}"
   ]
  },
  {
   "cell_type": "code",
   "execution_count": null,
   "metadata": {},
   "outputs": [],
   "source": [
    "val nowValue = now.value"
   ]
  },
  {
   "cell_type": "code",
   "execution_count": null,
   "metadata": {},
   "outputs": [],
   "source": [
    "val laterValue = later.value"
   ]
  },
  {
   "cell_type": "code",
   "execution_count": null,
   "metadata": {},
   "outputs": [],
   "source": [
    "val alwaysValue = always.value"
   ]
  },
  {
   "cell_type": "markdown",
   "metadata": {},
   "source": [
    "Like all monads, `Eval`'s `map` and `flatMap` methods add computations to a chain. In this case, however, the chain is stored explicitly as a list of functions. The functions aren’t run until we call `Eval`'s `value` method to request a result:"
   ]
  },
  {
   "cell_type": "code",
   "execution_count": null,
   "metadata": {},
   "outputs": [],
   "source": [
    "val greeting = Eval.\n",
    "  now { println(\"Step 1\"); \"Hello\" }.\n",
    "  map { str => println(\"Step 2\"); s\"$str world\" }"
   ]
  },
  {
   "cell_type": "code",
   "execution_count": null,
   "metadata": {},
   "outputs": [],
   "source": [
    "greeting.value"
   ]
  },
  {
   "cell_type": "markdown",
   "metadata": {},
   "source": [
    "Note that, while the semantics of the originating `Eval` instances are maintained, mapping and flatMapping functions are always caled lazily and on demand (`def` semantics).\n",
    "\n",
    "`Eval` has a `memoize` method that allows us to memoize a chain of computations. The result of the chain up to the call to `memoize` is cached, whereas calculations after the call retain their original semantics:"
   ]
  },
  {
   "cell_type": "code",
   "execution_count": null,
   "metadata": {},
   "outputs": [],
   "source": [
    "val saying = Eval.\n",
    "  always { println(\"Step 1\"); \"The cat\" }.\n",
    "  map { str => println(\"Step 2\"); s\"$str sat on\" }.\n",
    "  memoize.\n",
    "  map { str => println(\"Step 3\"); s\"$str the mat\" }"
   ]
  },
  {
   "cell_type": "code",
   "execution_count": null,
   "metadata": {},
   "outputs": [],
   "source": [
    "saying.value"
   ]
  },
  {
   "cell_type": "markdown",
   "metadata": {},
   "source": [
    "A useful property of `Eval` is that it's `map` and `flatMap` methods are *trampolined*. This means that we can nest calls to `map` and `flaMap` without consuming stack frames or blowing the stack. `Eval` is stack safe."
   ]
  },
  {
   "cell_type": "code",
   "execution_count": null,
   "metadata": {},
   "outputs": [],
   "source": [
    "def factorial(n: BigInt): BigInt =\n",
    "  if(n == 1) n else n * factorial(n - 1)\n",
    "\n",
    "factorial(50000)"
   ]
  },
  {
   "cell_type": "code",
   "execution_count": null,
   "metadata": {},
   "outputs": [],
   "source": [
    "// Let's try that again\n",
    "def factorial(n: BigInt): Eval[BigInt] =\n",
    "  if(n == 1) {\n",
    "    Eval.now(n)\n",
    "  } else {\n",
    "    factorial(n - 1).map(_ * n)\n",
    "  }\n",
    "\n",
    "factorial(50000).value"
   ]
  },
  {
   "cell_type": "code",
   "execution_count": null,
   "metadata": {},
   "outputs": [],
   "source": [
    "def factorial(n: BigInt): Eval[BigInt] =\n",
    "  if(n == 1) {\n",
    "    Eval.now(n)\n",
    "  } else {\n",
    "    Eval.defer(factorial(n - 1).map(_ * n))\n",
    "  }\n",
    "\n",
    "factorial(50000).value"
   ]
  },
  {
   "cell_type": "markdown",
   "metadata": {},
   "source": [
    "`Eval.defer` takes an existing instance of `Eval` and defers its evaluation. The `defer` method is trampolined like `map` and `flatMap`, so we can use it as a quick way to make an existing operation stack safe. We must remember that trampolining is not free. It avoids consuming stack by creating a chain of function objects on the head. There is still a limit, it's just based on the size of the heap rather than the stack.\n",
    "\n",
    "## Exercise\n",
    "Let's make `foldRight` stack safe using `Eval`:"
   ]
  },
  {
   "cell_type": "code",
   "execution_count": null,
   "metadata": {},
   "outputs": [],
   "source": [
    "def foldRight[A, B](as: List[A], acc: B)(fn: (A, B) => B): B =\n",
    "  as match {\n",
    "    case head :: tail =>\n",
    "      fn(head, foldRight(tail, acc)(fn))\n",
    "    case Nil =>\n",
    "      acc\n",
    "  }\n",
    "\n",
    "val list = List.fill(50000)(1)\n",
    "\n",
    "foldRight(list, 0)(_ + _)"
   ]
  },
  {
   "cell_type": "code",
   "execution_count": null,
   "metadata": {
    "jupyter": {
     "source_hidden": true
    }
   },
   "outputs": [],
   "source": [
    "def foldRight[A, B](as: List[A], acc: B)(fn: (A, B) => B): B =\n",
    "  foldRightEval(as, Eval.now(acc)) { (a, b) =>\n",
    "    b.map(fn(a, _))\n",
    "  }.value\n",
    "\n",
    "def foldRightEval[A, B](as: List[A], acc: Eval[B])(fn: (A, Eval[B]) => Eval[B]): Eval[B] =\n",
    "  as match {\n",
    "    case head :: tail =>\n",
    "      Eval.defer(fn(head, foldRightEval(tail, acc)(fn)))\n",
    "    case Nil =>\n",
    "      acc\n",
    "  }\n",
    "\n",
    "val list = List.fill(50000)(1)\n",
    "\n",
    "foldRight(list, 0)(_ + _)"
   ]
  }
 ],
 "metadata": {
  "kernelspec": {
   "display_name": "Scala",
   "language": "scala",
   "name": "scala"
  },
  "language_info": {
   "codemirror_mode": "text/x-scala",
   "file_extension": ".scala",
   "mimetype": "text/x-scala",
   "name": "scala",
   "nbconvert_exporter": "script",
   "version": "2.13.0"
  }
 },
 "nbformat": 4,
 "nbformat_minor": 2
}
