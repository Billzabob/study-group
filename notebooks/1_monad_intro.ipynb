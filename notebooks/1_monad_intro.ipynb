{
 "cells": [
  {
   "cell_type": "code",
   "execution_count": null,
   "metadata": {},
   "outputs": [],
   "source": [
    "import $ivy.`org.typelevel::cats-core:2.1.0`\n",
    "\n",
    "// These are all the imports you need for everything here\n",
    "import cats.implicits._\n",
    "\n",
    "import scala.concurrent.Future\n",
    "import scala.concurrent.ExecutionContext.Implicits.global"
   ]
  },
  {
   "cell_type": "markdown",
   "metadata": {},
   "source": [
    "# Monads\n",
    "\n",
    "## What is a Monad?\n",
    "A simple definition: Something that can be flatMapped\n",
    "\n",
    "Another definition: A mechanism for sequencing computations\n",
    "\n",
    "Functors are also for sequencing computations, but are limited in that they only allow one *complication* to occur at the beginning of the sequence."
   ]
  },
  {
   "cell_type": "code",
   "execution_count": null,
   "metadata": {},
   "outputs": [],
   "source": [
    "def parseInt(str: String): Option[Int] =\n",
    "  scala.util.Try(str.toInt).toOption\n",
    "\n",
    "val some = parseInt(\"10\").map(_ * 5).map(_ + 3)\n",
    "val none = parseInt(\"Not an int\").map(_ * 5).map(_ + 3)"
   ]
  },
  {
   "cell_type": "markdown",
   "metadata": {},
   "source": [
    "Monads allow to specify what happens next, taking into account an intermediate *complication*."
   ]
  },
  {
   "cell_type": "code",
   "execution_count": null,
   "metadata": {},
   "outputs": [],
   "source": [
    "def divide(a: Int, b: Int): Option[Int] =\n",
    "  if (b == 0) None else Some(a / b)\n",
    "\n",
    "def stringDivideBy(str1: String, str2: String): Option[Int] =\n",
    "  parseInt(str1).flatMap { num1 =>\n",
    "    parseInt(str2).flatMap { num2 =>\n",
    "      divide(num1, num2)\n",
    "    }\n",
    "  }\n",
    "\n",
    "val some  = stringDivideBy(\"10\", \"5\")\n",
    "val none1 = stringDivideBy(\"Not an int\", \"5\")\n",
    "val none2 = stringDivideBy(\"10\", \"Not an int\")\n",
    "val none3 = stringDivideBy(\"10\", \"0\")"
   ]
  },
  {
   "cell_type": "markdown",
   "metadata": {},
   "source": [
    "The *complication* in this example is `Option`s fail-fast error handling behavior.\n",
    "\n",
    "Every `Monad` is also a `Functor` (we'll do the proof in a bit). If we have `flatMap` and `map` we can use for comprehensions to clarify the sequencing behavior:"
   ]
  },
  {
   "cell_type": "code",
   "execution_count": null,
   "metadata": {},
   "outputs": [],
   "source": [
    "def stringDivideBy(str1: String, str2: String): Option[Int] =\n",
    "  for {\n",
    "    num1 <- parseInt(str1)\n",
    "    num2 <- parseInt(str2)\n",
    "    ans  <- divide(num1, num2)\n",
    "  } yield ans"
   ]
  },
  {
   "cell_type": "markdown",
   "metadata": {},
   "source": [
    "## Examples of Monads\n",
    "\n",
    "### `List`\n",
    "`List`'s `flatMap` can be thought of as iterating over the elements of the list. This is reinforced by the syntax of for comprehensions, which look very much like imperative for-loops:"
   ]
  },
  {
   "cell_type": "code",
   "execution_count": null,
   "metadata": {},
   "outputs": [],
   "source": [
    "for {\n",
    "  x <- (1 to 3).toList\n",
    "  y <- (4 to 5).toList\n",
    "} yield (x, y)"
   ]
  },
  {
   "cell_type": "markdown",
   "metadata": {},
   "source": [
    "However, there is another mental model we can apply that highlights the monadic behaviour of `List`. If we think of `List`s as sets of intermediate results, `flatMap` becomes a construct that calculates permutations and combinations.\n",
    "\n",
    "`List`'s *complication* is calculating all possible intermediate results.\n",
    "\n",
    "### `Future`\n",
    "`Future`'s `flatMap` allows us to sequence asynchronous computations without worrying about the complexities of thread pools and schedulers."
   ]
  },
  {
   "cell_type": "code",
   "execution_count": null,
   "metadata": {},
   "outputs": [],
   "source": [
    "def doSomethingLongRunning: Future[Int] = ???\n",
    "def doSomethingElseLongRunning: Future[Int] = ???\n",
    "def doSomethingVeryLongRunning: Future[Int] =\n",
    "  for {\n",
    "    result1 <- doSomethingLongRunning\n",
    "    result2 <- doSomethingElseLongRunning\n",
    "  } yield result1 + result2"
   ]
  },
  {
   "cell_type": "markdown",
   "metadata": {},
   "source": [
    "If you're familiar with `Future`, you’ll know that the code above is running each operation *in sequence*. This becomes clearer if we expand out the for comprehension to show the nested calls to `flatMap`:"
   ]
  },
  {
   "cell_type": "code",
   "execution_count": null,
   "metadata": {},
   "outputs": [],
   "source": [
    "def doSomethingVeryLongRunning: Future[Int] =\n",
    "  doSomethingLongRunning.flatMap { result1 =>\n",
    "    doSomethingElseLongRunning.map { result2 =>\n",
    "      result1 + result2\n",
    "    }\n",
    "  }"
   ]
  },
  {
   "cell_type": "markdown",
   "metadata": {},
   "source": [
    "Each `Future` in our sequence is created by a function that receives the result from a previous `Future`. In other words, each step in our computation can only start once the previous step is finished.\n",
    "\n",
    "\n",
    "\n",
    "`Future`s *can* be ran in parallel, of course, but monads are all about sequencing computations. Also, running `Future`s in parallel shows how `Future`s break **referential transparency**.\n",
    "\n",
    "## Definition of a Monad\n",
    "A monad requires slightly more than just `flatMap` a monad needs both:\n",
    "- `pure` of type `A => F[A]`\n",
    "- `flatMap` of type `(F[A], A => F[B]) => F[B]`\n",
    "\n",
    "`pure` abstracts over constructors. Every monad can be created from a plain value. Think of `pure` as an abstraction of `Some(value)` for `Option`, `Future.successful(value)` for `Future`, and `List(value)` for `List`.\n",
    "\n",
    "Here is a simplified version of the `Monad` type class in Cats:"
   ]
  },
  {
   "cell_type": "code",
   "execution_count": null,
   "metadata": {},
   "outputs": [],
   "source": [
    "// Calling it MyMonad to not overwrite cats.Monad\n",
    "trait MyMonad[F[_]] {\n",
    "  def pure[A](value: A): F[A]\n",
    "  def flatMap[A, B](value: F[A])(func: A => F[B]): F[B]\n",
    "}"
   ]
  },
  {
   "cell_type": "markdown",
   "metadata": {},
   "source": [
    "## Monad Laws\n",
    "Like most type classes, `Monad` has laws:\n",
    "\n",
    "**Left Identity**\n",
    "\n",
    "`pure(value).flatMap(f) == f(value)`"
   ]
  },
  {
   "cell_type": "code",
   "execution_count": null,
   "metadata": {},
   "outputs": [],
   "source": [
    "val result1 = \"10\".some.flatMap(parseInt)\n",
    "val result2 = parseInt(\"10\")"
   ]
  },
  {
   "cell_type": "markdown",
   "metadata": {},
   "source": [
    "**Right Identity**\n",
    "\n",
    "`monad.flatMap(pure) == monad`"
   ]
  },
  {
   "cell_type": "code",
   "execution_count": null,
   "metadata": {},
   "outputs": [],
   "source": [
    "val result1 = \"10\".some\n",
    "val result2 = \"10\".some.flatMap(_.some)"
   ]
  },
  {
   "cell_type": "markdown",
   "metadata": {},
   "source": [
    "**Associativity**\n",
    "\n",
    "`monad.flatMap(f).flatMap(g) == monad.flatMap(x => f(x).flatMap(g))`"
   ]
  },
  {
   "cell_type": "code",
   "execution_count": null,
   "metadata": {},
   "outputs": [],
   "source": [
    "def tenDividedBy(a: Int) = divide(10, a)\n",
    "\n",
    "val result1 = \"10\".some.flatMap(parseInt).flatMap(tenDividedBy)\n",
    "val result2 = \"10\".some.flatMap(x => parseInt(x).flatMap(tenDividedBy))"
   ]
  },
  {
   "cell_type": "markdown",
   "metadata": {},
   "source": [
    "## Exercise\n",
    "Lets do an exercise from the book and prove that every `Monad` is also a `Functor`:"
   ]
  },
  {
   "cell_type": "code",
   "execution_count": null,
   "metadata": {},
   "outputs": [],
   "source": [
    "// Calling it MyMonad to not overwrite cats.Monad\n",
    "trait MyMonad[F[_]] {\n",
    "  def pure[A](value: A): F[A]\n",
    "  def flatMap[A, B](value: F[A])(func: A => F[B]): F[B]\n",
    "  def map[A, B](value: F[A])(func: A => B): F[B] =\n",
    "    ???\n",
    "}"
   ]
  },
  {
   "cell_type": "code",
   "execution_count": null,
   "metadata": {
    "jupyter": {
     "source_hidden": true
    }
   },
   "outputs": [],
   "source": [
    "// Calling it MyMonad to not overwrite cats.Monad\n",
    "trait MyMonad[F[_]] {\n",
    "  def pure[A](value: A): F[A]\n",
    "  def flatMap[A, B](value: F[A])(func: A => F[B]): F[B]\n",
    "  def map[A, B](value: F[A])(func: A => B): F[B] =\n",
    "    flatMap(value)(a => pure(func(a)))\n",
    "}"
   ]
  },
  {
   "cell_type": "markdown",
   "metadata": {},
   "source": [
    "Side Note:\n",
    "\n",
    "This interesting phenonemon where we are severly limited in the number of possible implementations of a polymorphic function is called **parametricity**. There is only one way to write this function and have it compile. Go ahead and try to find another."
   ]
  }
 ],
 "metadata": {
  "kernelspec": {
   "display_name": "Scala",
   "language": "scala",
   "name": "scala"
  },
  "language_info": {
   "codemirror_mode": "text/x-scala",
   "file_extension": ".scala",
   "mimetype": "text/x-scala",
   "name": "scala",
   "nbconvert_exporter": "script",
   "version": "2.13.0"
  }
 },
 "nbformat": 4,
 "nbformat_minor": 2
}
