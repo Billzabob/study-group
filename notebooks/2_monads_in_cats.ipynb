{
 "cells": [
  {
   "cell_type": "code",
   "execution_count": null,
   "metadata": {},
   "outputs": [],
   "source": [
    "import $ivy.`org.typelevel::cats-core:2.1.0`\n",
    "\n",
    "// These are all the imports you need for everything here\n",
    "import cats.implicits._\n",
    "import cats.{Id, Monad}\n",
    "\n",
    "import scala.concurrent.Future"
   ]
  },
  {
   "cell_type": "markdown",
   "metadata": {},
   "source": [
    "# Monads in Cats\n",
    "## Monad Type Class\n",
    "The monad type class is `cats.Monad`. It extends two other type classes: `FlatMap`, which provides the `flatMap` method, and `Applicative`, which provides, amongst other things, the `pure` function. `Applicative` also extends `Functor`, which gives every `Monad` a `map` method as we just saw in the exercise.\n",
    "\n",
    "Here are some examples:"
   ]
  },
  {
   "cell_type": "code",
   "execution_count": null,
   "metadata": {},
   "outputs": [],
   "source": [
    "val opt1 = Monad[Option].pure(3)\n",
    "val opt2 = Monad[Option].flatMap(opt1)(a => Some(a + 2))\n",
    "val opt3 = Monad[Option].map(opt2)(a => 100 * a)\n",
    "\n",
    "val list1 = Monad[List].pure(3)\n",
    "val list2 = Monad[List].flatMap(List(1, 2, 3))(a => List(a, a * 10))\n",
    "val list3 = Monad[List].map(list2)(_ + 123)"
   ]
  },
  {
   "cell_type": "markdown",
   "metadata": {},
   "source": [
    "`Monad` also provides many other userful methods, including all the methods from `Applicative` and `Functor`.\n",
    "\n",
    "## Default Instances\n",
    "Cats also provides instances for all the monads in the standard library (`Option`, `List`, `Vector`, etc).\n",
    "\n",
    "Cats also provides a `Monad` for `Future`. Unlike the methods on the `Future` class itself, the `pure` and `flatMap` methods on the monad can’t accept implicit `ExecutionContext` parameters (because the parameters aren’t part of the\n",
    "definitions in the `Monad` trait). To work around this, Cats requires us to have an `ExecutionContext` in scope when we summon a `Monad` for `Future`:"
   ]
  },
  {
   "cell_type": "code",
   "execution_count": null,
   "metadata": {},
   "outputs": [],
   "source": [
    "val fm = Monad[Future]"
   ]
  },
  {
   "cell_type": "code",
   "execution_count": null,
   "metadata": {},
   "outputs": [],
   "source": [
    "import scala.concurrent.ExecutionContext.Implicits.global\n",
    "\n",
    "val fm = Monad[Future]\n",
    "// The Monad instance uses the captured ExecutionContext for subsequent calls to pure and flatMap"
   ]
  },
  {
   "cell_type": "markdown",
   "metadata": {},
   "source": [
    "## Monad Syntax\n",
    "We can use `pure` to construct instances of a monad. We’ll often need to specify the type parameter to disambiguate the particular instance we want."
   ]
  },
  {
   "cell_type": "code",
   "execution_count": null,
   "metadata": {},
   "outputs": [],
   "source": [
    "val opt  = 1.pure[Option]\n",
    "val list = 1.pure[List]"
   ]
  },
  {
   "cell_type": "markdown",
   "metadata": {},
   "source": [
    "It’s difficult to demonstrate the `flatMap` and `map` methods directly on Scala monads like `Option` and `List`, because they define their own explicit versions of those methods. Instead we’ll write a generic function that performs a calculation on parameters that come wrapped in a monad of the user’s choice:"
   ]
  },
  {
   "cell_type": "code",
   "execution_count": null,
   "metadata": {},
   "outputs": [],
   "source": [
    "def sumSquare[F[_]: Monad](a: F[Int], b: F[Int]): F[Int] =\n",
    "  for {\n",
    "    x <- a\n",
    "    y <- b\n",
    "  } yield x*x + y*y\n",
    "\n",
    "sumSquare(3.some, 4.some)\n",
    "\n",
    "sumSquare(List(1, 2, 3), List(4, 5))"
   ]
  },
  {
   "cell_type": "markdown",
   "metadata": {},
   "source": [
    "## The Identity Monad\n",
    "The `sumSquare` method is pretty neat. What if we want to use it with plain old values?"
   ]
  },
  {
   "cell_type": "code",
   "execution_count": null,
   "metadata": {},
   "outputs": [],
   "source": [
    "sumSquare(3, 4)"
   ]
  },
  {
   "cell_type": "markdown",
   "metadata": {},
   "source": [
    "Quite a lovely error message isn't it? It would be awesome if we could use it with monadic and non-monadic code. Fortunately, Cats provides the `Id` type to bridge the gap:"
   ]
  },
  {
   "cell_type": "code",
   "execution_count": null,
   "metadata": {},
   "outputs": [],
   "source": [
    "sumSquare[Id](3, 4)"
   ]
  },
  {
   "cell_type": "markdown",
   "metadata": {},
   "source": [
    "Interesting. Lets take a look at the definition of `Id`:"
   ]
  },
  {
   "cell_type": "code",
   "execution_count": null,
   "metadata": {},
   "outputs": [],
   "source": [
    "// Calling it MyId to not overwrite cats.Id\n",
    "type MyId[A] = A"
   ]
  },
  {
   "cell_type": "markdown",
   "metadata": {},
   "source": [
    "It's just a type alias to turn a type into a single-parameter type constructor. You can cast anything to the corresponding `Id`. Cats provides instances for various type classes for `Id`, including `Functor` and `Monad`:"
   ]
  },
  {
   "cell_type": "code",
   "execution_count": null,
   "metadata": {},
   "outputs": [],
   "source": [
    "val stringId = \"Dave\" : Id[String]\n",
    "val intId    = 123 : Id[Int]\n",
    "val listId   = List(1, 2, 3) : Id[List[Int]]\n",
    "\n",
    "val a = Monad[Id].pure(3)\n",
    "val b = Monad[Id].flatMap(a)(_ + 1)\n",
    "\n",
    "val c =\n",
    "  for {\n",
    "    x <- a\n",
    "    y <- b\n",
    "  } yield x + y"
   ]
  },
  {
   "cell_type": "markdown",
   "metadata": {},
   "source": [
    "### Exercise\n",
    "Lets try to implement `Monad` for `Id`:"
   ]
  },
  {
   "cell_type": "code",
   "execution_count": null,
   "metadata": {},
   "outputs": [],
   "source": [
    "// Ignore StackSafeMonad for now\n",
    "implicit val monadForId: Monad[Id] = new Monad[Id] with cats.StackSafeMonad[Id] {\n",
    "  override def pure[A](value: A): Id[A] =\n",
    "    ???\n",
    "  override def map[A, B](initial: Id[A])(func: A => B): Id[B] =\n",
    "    ???\n",
    "  override def flatMap[A, B](initial: Id[A])(func: A => Id[B]): Id[B] =\n",
    "    ???\n",
    "}"
   ]
  },
  {
   "cell_type": "code",
   "execution_count": null,
   "metadata": {
    "jupyter": {
     "source_hidden": true
    }
   },
   "outputs": [],
   "source": [
    "// Ignore StackSafeMonad for now\n",
    "implicit val monadForId: Monad[Id] = new Monad[Id] with cats.StackSafeMonad[Id] {\n",
    "  override def pure[A](value: A): Id[A] =\n",
    "    value\n",
    "  override def map[A, B](initial: Id[A])(func: A => B): Id[B] =\n",
    "    func(initial)\n",
    "  override def flatMap[A, B](initial: Id[A])(func: A => Id[B]): Id[B] =\n",
    "    func(initial)\n",
    "}"
   ]
  },
  {
   "cell_type": "markdown",
   "metadata": {},
   "source": [
    "This ties in with our understanding of functors and monads as sequencing type classes. Each type class allows us to sequence operations ignoring some kind of complication. In the case of `Id` there is no complication, making `map` and\n",
    "`flatMap` the same thing.\n",
    "\n",
    "## Either\n",
    "In 2.11 and earlier, `Either` wasn't really a monad since it didn't have `map` and `flatMap` methods. In 2.12 it became *right biased*. Now `Either` makes the decision that the right side represents the success case and supports `map` and `flatMap` directly. Cats back-ports this behavior to 2.11 by implementing `Monad` for `Either`, allowing you to call `map` and `flatMap` on it as you would in 2.12.\n",
    "\n",
    "### Either Syntax\n",
    "You can create instances of `Either` with `asRight` and `asLeft`:"
   ]
  },
  {
   "cell_type": "code",
   "execution_count": null,
   "metadata": {},
   "outputs": [],
   "source": [
    "val a = 3.asRight[String]\n",
    "val b = 4.asRight[String]\n",
    "\n",
    "val result = for {\n",
    "  x <- a\n",
    "  y <- b\n",
    "} yield x*x + y*y"
   ]
  },
  {
   "cell_type": "markdown",
   "metadata": {},
   "source": [
    "These \"smart constructors\" have advantages over `Left.apply` and `Right.apply`, similar to the advantages of `value.some` over `Some(value)`. They return type `Either` instead of `Left` and `Right` which helps avoid inference bugs cause by over-narrowing.\n",
    "\n",
    "Cats adds useful extension methods to `Either` and the `Either` companion object:"
   ]
  },
  {
   "cell_type": "code",
   "execution_count": null,
   "metadata": {},
   "outputs": [],
   "source": [
    "val a = Either.catchOnly[NumberFormatException](\"foo\".toInt)\n",
    "val b = Either.catchNonFatal(sys.error(\"Badness\"))\n",
    "\n",
    "// We can also create Either form other types\n",
    "val fromTry = Either.fromTry(scala.util.Try(\"foo\".toInt))\n",
    "val fromOpt = Either.fromOption[String, Int](None, \"Badness\")\n",
    "\n",
    "// getOrElse and orElse are added\n",
    "val getOrElse = \"Error\".asLeft[Int].getOrElse(0)\n",
    "val orElse    = \"Error\".asLeft[Int].orElse(2.asRight[String])\n",
    "\n",
    "// ensure allows us to check a predicate and return Left if it isn't satisfied\n",
    "val ensure = -1.asRight[String].ensure(\"Must be non-negative!\")(_ > 0)\n",
    "\n",
    "// We get recover and recoverWith, similar to Future\n",
    "val recover = \"error\".asLeft[Int].recover {\n",
    "  case str => -1\n",
    "}\n",
    "\n",
    "val recoverWith = \"error\".asLeft[Int].recoverWith {\n",
    "  case str => Right(-1)\n",
    "}\n",
    "\n",
    "// We get leftMap and bimap to compliment map\n",
    "val leftMap = \"foo\".asLeft[Int].leftMap(_.reverse)\n",
    "val bimap1  = 6.asRight[String].bimap(_.reverse, _ * 7)\n",
    "val bimap2  = \"bar\".asLeft[Int].bimap(_.reverse, _ * 7)\n",
    "\n",
    "// Swap lets up switch the left and right\n",
    "val swap = 123.asRight[String].swap\n",
    "\n",
    "// Finally, there is a bunch of conversion methods\n",
    "val toOpt  = a.toOption\n",
    "val toList = a.toList\n",
    "val toTry  = a.toTry\n",
    "val toVal  = a.toValidated"
   ]
  },
  {
   "cell_type": "markdown",
   "metadata": {},
   "source": [
    "## Error Handling and MonadError\n",
    "The book says this chapter is optional so I'll give it a quick summary. You can abstract over error handling behavior similar to that seen in `Either`, `Try`, and `Future` with the type class `MonadError`. Here is a simplified definition if you're curious:"
   ]
  },
  {
   "cell_type": "code",
   "execution_count": null,
   "metadata": {},
   "outputs": [],
   "source": [
    "// Calling it MyMonadError to not overwrite cats.MonadError\n",
    "trait MyMonadError[F[_], E] extends Monad[F] {\n",
    "  def raiseError[A](e: E): F[A]\n",
    "  def handleErrorWith[A](fa: F[A])(f: E => F[A]): F[A]\n",
    "  def ensure[A](fa: F[A])(error: => E)(predicate: A => Boolean): F[A] =\n",
    "    flatMap(fa)(a => if (predicate(a)) pure(a) else raiseError(error))\n",
    "  // And plenty more utility methods...\n",
    "}"
   ]
  }
 ],
 "metadata": {
  "kernelspec": {
   "display_name": "Scala (2.13)",
   "language": "scala",
   "name": "scala213"
  },
  "language_info": {
   "codemirror_mode": "text/x-scala",
   "file_extension": ".scala",
   "mimetype": "text/x-scala",
   "name": "scala",
   "nbconvert_exporter": "script",
   "version": "2.13.1"
  }
 },
 "nbformat": 4,
 "nbformat_minor": 2
}
